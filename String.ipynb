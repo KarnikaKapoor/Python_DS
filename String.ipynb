{
 "cells": [
  {
   "cell_type": "code",
   "execution_count": 1,
   "id": "2e9b928f",
   "metadata": {},
   "outputs": [
    {
     "name": "stdout",
     "output_type": "stream",
     "text": [
      "Welcome to Python Strings Tutorial!\n"
     ]
    }
   ],
   "source": [
    "# 1. Introduction\n",
    "print(\"Welcome to Python Strings Tutorial!\")"
   ]
  },
  {
   "cell_type": "code",
   "execution_count": 2,
   "id": "6727592b",
   "metadata": {},
   "outputs": [
    {
     "name": "stdout",
     "output_type": "stream",
     "text": [
      "Single character: D\n",
      "Simple string: Don't Panic!\n"
     ]
    }
   ],
   "source": [
    "# 2. Simple Strings\n",
    "# Single character\n",
    "letter = 'D'\n",
    "print(\"Single character:\", letter)\n",
    "\n",
    "# Simple string\n",
    "greeting = 'Don\\'t Panic!'\n",
    "print(\"Simple string:\", greeting)"
   ]
  },
  {
   "cell_type": "code",
   "execution_count": 3,
   "id": "08e65ceb",
   "metadata": {},
   "outputs": [
    {
     "name": "stdout",
     "output_type": "stream",
     "text": [
      "Multiline String:\n",
      " The Hitchhiker's Guide to the Galaxy is a wholly remarkable book.\n",
      "It has been compiled and recompiled many times over many years and under many different editorships.\n",
      "It contains contributions from countless numbers of travelers and researchers.\n"
     ]
    }
   ],
   "source": [
    "# 3. Multiline Strings\n",
    "multiline_string = \"\"\"The Hitchhiker's Guide to the Galaxy is a wholly remarkable book.\n",
    "It has been compiled and recompiled many times over many years and under many different editorships.\n",
    "It contains contributions from countless numbers of travelers and researchers.\"\"\"\n",
    "print(\"Multiline String:\\n\", multiline_string)"
   ]
  },
  {
   "cell_type": "code",
   "execution_count": 4,
   "id": "5c0e0cb0",
   "metadata": {},
   "outputs": [
    {
     "name": "stdout",
     "output_type": "stream",
     "text": [
      "First character: D\n",
      "Sliced part (first 4 chars): Don'\n",
      "Concatenated String: Don't Panic! It's safe to hitchhike!\n",
      "Repeated String: 42! 42! 42! \n"
     ]
    }
   ],
   "source": [
    "# 4. String Operations\n",
    "# Accessing characters\n",
    "first_char = greeting[0]\n",
    "print(\"First character:\", first_char)\n",
    "\n",
    "# Slicing strings\n",
    "slice = greeting[0:4]\n",
    "print(\"Sliced part (first 4 chars):\", slice)\n",
    "\n",
    "# Concatenation\n",
    "full_greeting = greeting + \" It's safe to hitchhike!\"\n",
    "print(\"Concatenated String:\", full_greeting)\n",
    "\n",
    "# Repeating strings\n",
    "echo = '42! ' * 3\n",
    "print(\"Repeated String:\", echo)"
   ]
  },
  {
   "cell_type": "code",
   "execution_count": 5,
   "id": "ee469a43",
   "metadata": {},
   "outputs": [
    {
     "name": "stdout",
     "output_type": "stream",
     "text": [
      "Lowercase String: don't panic!\n",
      "Index of 'Panic': 6\n",
      "Split String into words: [\"Don't\", 'Panic!']\n"
     ]
    }
   ],
   "source": [
    "# 5. String Methods\n",
    "# Using string methods\n",
    "lower_case = greeting.lower()\n",
    "print(\"Lowercase String:\", lower_case)\n",
    "\n",
    "found_index = greeting.find('Panic')\n",
    "print(\"Index of 'Panic':\", found_index)\n",
    "\n",
    "split_greeting = greeting.split()\n",
    "print(\"Split String into words:\", split_greeting)"
   ]
  }
 ],
 "metadata": {
  "kernelspec": {
   "display_name": "Python 3 (ipykernel)",
   "language": "python",
   "name": "python3"
  },
  "language_info": {
   "codemirror_mode": {
    "name": "ipython",
    "version": 3
   },
   "file_extension": ".py",
   "mimetype": "text/x-python",
   "name": "python",
   "nbconvert_exporter": "python",
   "pygments_lexer": "ipython3",
   "version": "3.9.7"
  }
 },
 "nbformat": 4,
 "nbformat_minor": 5
}
